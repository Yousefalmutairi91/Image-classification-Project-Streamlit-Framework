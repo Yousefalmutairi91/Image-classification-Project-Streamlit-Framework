{
  "nbformat": 4,
  "nbformat_minor": 0,
  "metadata": {
    "colab": {
      "name": "final_project_img_classification.ipynb",
      "provenance": [],
      "collapsed_sections": [],
      "machine_shape": "hm"
    },
    "kernelspec": {
      "display_name": "Python 3",
      "name": "python3"
    },
    "language_info": {
      "name": "python"
    },
    "accelerator": "GPU"
  },
  "cells": [
    {
      "cell_type": "code",
      "metadata": {
        "colab": {
          "base_uri": "https://localhost:8080/"
        },
        "id": "eJXq3E5gr4Jy",
        "outputId": "3768c2f9-7a26-4f9e-ec8b-11b9130c4531"
      },
      "source": [
        "from google.colab import drive\n",
        "drive.mount('/content/drive', force_remount=False)"
      ],
      "execution_count": 46,
      "outputs": [
        {
          "output_type": "stream",
          "text": [
            "Drive already mounted at /content/drive; to attempt to forcibly remount, call drive.mount(\"/content/drive\", force_remount=True).\n"
          ],
          "name": "stdout"
        }
      ]
    },
    {
      "cell_type": "code",
      "metadata": {
        "id": "7Y5mxlx1cpSg"
      },
      "source": [
        "import os\n",
        "import pandas as pd\n",
        "import numpy as np\n",
        "import matplotlib.pyplot as plt\n",
        "from keras.optimizers import Adam\n",
        "from keras.callbacks import EarlyStopping, ModelCheckpoint, ReduceLROnPlateau\n",
        "from keras import Sequential\n",
        "from keras.models import Sequential\n",
        "from keras.preprocessing.image import ImageDataGenerator\n",
        "from keras.preprocessing import image\n",
        "from keras.layers import Dense, Dropout, Flatten, Conv2D, MaxPooling2D\n",
        "import h5py\n",
        "import cv2\n",
        "import imageio\n",
        "import pathlib\n",
        "%matplotlib inline"
      ],
      "execution_count": 47,
      "outputs": []
    },
    {
      "cell_type": "code",
      "metadata": {
        "colab": {
          "base_uri": "https://localhost:8080/"
        },
        "id": "Mtif6PrYjxik",
        "outputId": "3f5c8f6c-b947-4968-8281-e65443625523"
      },
      "source": [
        "rescale = ImageDataGenerator(1/255)\n",
        "train = rescale.flow_from_directory('/content/drive/MyDrive/python_final_project/img_dataset/seg_train/seg_train', target_size= (128,128), batch_size= 32, class_mode=\"categorical\")\n",
        "test = rescale.flow_from_directory('/content/drive/MyDrive/python_final_project/img_dataset/seg_test/seg_test', target_size= (128,128), batch_size= 32, class_mode=\"categorical\")"
      ],
      "execution_count": 48,
      "outputs": [
        {
          "output_type": "stream",
          "text": [
            "Found 13688 images belonging to 6 classes.\n",
            "Found 3000 images belonging to 6 classes.\n"
          ],
          "name": "stdout"
        }
      ]
    },
    {
      "cell_type": "code",
      "metadata": {
        "id": "W4TnKGP_cwCL"
      },
      "source": [
        "#build the model\n",
        "model = Sequential()\n",
        "\n",
        "model.add(Conv2D(16, (3, 3), input_shape=(128,128,3), activation='relu'))\n",
        "model.add(MaxPooling2D((2, 2)))\n",
        "\n",
        "model.add(Conv2D(32, (3, 3), activation='relu'))\n",
        "model.add(MaxPooling2D((2, 2)))\n",
        "\n",
        "model.add(Conv2D(64, (3, 3), activation='relu'))\n",
        "model.add(MaxPooling2D((2, 2)))\n",
        "\n",
        "model.add(Conv2D(128, (3, 3), activation='relu'))\n",
        "model.add(MaxPooling2D((2, 2)))\n",
        "\n",
        "model.add(Flatten())\n",
        "\n",
        "model.add(Dense(128, activation='relu'))\n",
        "model.add(Dropout(0.5))\n",
        "\n",
        "model.add(Dense(6, activation='softmax'))"
      ],
      "execution_count": 67,
      "outputs": []
    },
    {
      "cell_type": "code",
      "metadata": {
        "id": "yWRlAnricv6e"
      },
      "source": [
        "model.compile(loss='categorical_crossentropy', optimizer='Adam', metrics='accuracy')"
      ],
      "execution_count": 70,
      "outputs": []
    },
    {
      "cell_type": "code",
      "metadata": {
        "id": "IUS_2nAFhUsr"
      },
      "source": [
        "earlystop = EarlyStopping(monitor='val_loss', patience= 6, restore_best_weights=True)\n",
        "checkpoint = ModelCheckpoint(filepath='/content/drive/MyDrive/python_final_project/img_dataset/saved_model2.hdf5', monitor='val_loss', save_best_only=True)\n",
        "reducerate = ReduceLROnPlateau(monitor='val_loss', parience=6, factor=0.1)"
      ],
      "execution_count": 71,
      "outputs": []
    },
    {
      "cell_type": "code",
      "metadata": {
        "id": "3XHb_N99hf8O",
        "colab": {
          "base_uri": "https://localhost:8080/"
        },
        "outputId": "e02c6aa7-b4ca-4586-fbee-eb1fbeff1664"
      },
      "source": [
        "fitmodel = model.fit(train, shuffle=True, validation_data= test, callbacks=[earlystop, reducerate, checkpoint], epochs=10, verbose=2)"
      ],
      "execution_count": 72,
      "outputs": [
        {
          "output_type": "stream",
          "text": [
            "/usr/local/lib/python3.7/dist-packages/keras_preprocessing/image/image_data_generator.py:720: UserWarning: This ImageDataGenerator specifies `featurewise_center`, but it hasn't been fit on any training data. Fit it first by calling `.fit(numpy_data)`.\n",
            "  warnings.warn('This ImageDataGenerator specifies '\n"
          ],
          "name": "stderr"
        },
        {
          "output_type": "stream",
          "text": [
            "Epoch 1/10\n",
            "428/428 - 36s - loss: 1.5584 - accuracy: 0.5149 - val_loss: 0.8483 - val_accuracy: 0.6803\n",
            "Epoch 2/10\n",
            "428/428 - 33s - loss: 0.9248 - accuracy: 0.6563 - val_loss: 0.7404 - val_accuracy: 0.7413\n",
            "Epoch 3/10\n",
            "428/428 - 34s - loss: 0.7843 - accuracy: 0.7176 - val_loss: 0.6767 - val_accuracy: 0.7563\n",
            "Epoch 4/10\n",
            "428/428 - 34s - loss: 0.7015 - accuracy: 0.7493 - val_loss: 0.6325 - val_accuracy: 0.7683\n",
            "Epoch 5/10\n",
            "428/428 - 34s - loss: 0.6687 - accuracy: 0.7663 - val_loss: 0.5779 - val_accuracy: 0.7980\n",
            "Epoch 6/10\n",
            "428/428 - 33s - loss: 0.5739 - accuracy: 0.7998 - val_loss: 0.5820 - val_accuracy: 0.7960\n",
            "Epoch 7/10\n",
            "428/428 - 33s - loss: 0.5347 - accuracy: 0.8107 - val_loss: 0.5588 - val_accuracy: 0.8077\n",
            "Epoch 8/10\n",
            "428/428 - 34s - loss: 0.4981 - accuracy: 0.8242 - val_loss: 0.5611 - val_accuracy: 0.8133\n",
            "Epoch 9/10\n",
            "428/428 - 33s - loss: 0.4784 - accuracy: 0.8307 - val_loss: 0.6576 - val_accuracy: 0.7947\n",
            "Epoch 10/10\n",
            "428/428 - 34s - loss: 0.4244 - accuracy: 0.8507 - val_loss: 0.5971 - val_accuracy: 0.8097\n"
          ],
          "name": "stdout"
        }
      ]
    },
    {
      "cell_type": "code",
      "metadata": {
        "id": "gDzvhsCtqLcN",
        "colab": {
          "base_uri": "https://localhost:8080/",
          "height": 294
        },
        "outputId": "3e4f818b-1b07-4832-f71d-783ec0f62fde"
      },
      "source": [
        "plt.plot(fitmodel.history['accuracy'], label='train')\n",
        "plt.plot(fitmodel.history['val_accuracy'], label='train')\n",
        "plt.plot(fitmodel.history['loss'], label='train')\n",
        "plt.plot(fitmodel.history['val_loss'], label='train')\n",
        "plt.title(\"Plot the Acuuracy and Loss\")\n",
        "plt.xlabel(\"Epoch\")\n",
        "plt.ylabel(\"Loss\")\n",
        "plt.grid(True)\n",
        "plt.show()"
      ],
      "execution_count": 73,
      "outputs": [
        {
          "output_type": "display_data",
          "data": {
            "image/png": "[encoded data removed]",
            "text/plain": [
              "<Figure size 432x288 with 1 Axes>"
            ]
          },
          "metadata": {
            "tags": [],
            "needs_background": "light"
          }
        }
      ]
    },
    {
      "cell_type": "code",
      "metadata": {
        "id": "7L1_nRAJxGQu"
      },
      "source": [
        "import tensorflow as tf\n",
        "\n",
        "tf.keras.models.save_model(model,'/content/drive/MyDrive/python_final_project/img_dataset/saved_model8.hdf5')"
      ],
      "execution_count": 77,
      "outputs": []
    }
  ]
}
